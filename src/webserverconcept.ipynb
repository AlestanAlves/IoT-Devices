{
 "cells": [
  {
   "cell_type": "code",
   "execution_count": 263,
   "metadata": {},
   "outputs": [
    {
     "name": "stdout",
     "output_type": "stream",
     "text": [
      "\u001b[34mConnecting to --port=/dev/ttyUSB0 --baud=115200 \u001b[0m\n",
      "Traceback (most recent call last):\n",
      "  File \"main.py\", line 41, in <module>\n",
      "  File \"main.py\", line 18, in connect_wifi\n",
      "KeyboardInterrupt: \n",
      "MicroPython v1.15 on 2021-04-18; ESP32 module with ESP32\n",
      "Type \"help()\" for more information.\n",
      ">>> \n",
      ">>> \n",
      "raw REPL; CTRL-B to exit\n",
      ">\u001b[34mReady.\n",
      "\u001b[0m"
     ]
    }
   ],
   "source": [
    "%serialconnect to --port=/dev/ttyUSB0"
   ]
  },
  {
   "cell_type": "code",
   "execution_count": 264,
   "metadata": {},
   "outputs": [
    {
     "name": "stdout",
     "output_type": "stream",
     "text": [
      "esp32\n"
     ]
    }
   ],
   "source": [
    "print('esp32')"
   ]
  },
  {
   "cell_type": "code",
   "execution_count": 267,
   "metadata": {},
   "outputs": [],
   "source": [
    "from machine import Pin\n",
    "\n",
    "led = Pin(2, Pin.OUT)\n",
    "led.on()"
   ]
  },
  {
   "cell_type": "code",
   "execution_count": 268,
   "metadata": {},
   "outputs": [],
   "source": [
    "led.off()"
   ]
  },
  {
   "cell_type": "code",
   "execution_count": 226,
   "metadata": {},
   "outputs": [
    {
     "name": "stdout",
     "output_type": "stream",
     "text": [
      "Connected to wifi\n",
      "('192.168.15.12', '255.255.255.0', '192.168.15.1', '192.168.15.1')\n",
      "...New Connection in API ('192.168.15.14', 53552)\n",
      "Request b'GET / HTTP/1.1\\r\\nHost: 192.168.15.12\\r\\nConnection: keep-alive\\r\\nDNT: 1\\r\\nUpgrade-Insecure-Requests: 1\\r\\nUser-Agent: Mozilla/5.0 (X11; Linux x86_64) AppleWebKit/537.36 (KHTML, like Gecko) Chrome/90.0.4430.93 Safari/537.36\\r\\nAccept: text/html,application/xhtml+xml,application/xml;q=0.9,image/avif,image/webp,image/apng,*/*;q=0.8,application/signed-exchange;v=b3;q=0.9\\r\\nPurpose: prefetch\\r\\nAccept-Encoding: gzip, deflate\\r\\nAccept-Language: pt-BR,pt;q=0.9,en-US;q=0.8,en;q=0.7\\r\\n\\r\\n'\n",
      "New Connection in API ('192.168.15.14', 53554)\n",
      ".Request b'GET /favicon.ico HTTP/1.1\\r\\nHost: 192.168.15.12\\r\\nConnection: keep-alive\\r\\nUser-Agent: Mozilla/5.0 (X11; Linux x86_64) AppleWebKit/537.36 (KHTML, like Gecko) Chrome/90.0.4430.93 Safari/537.36\\r\\nDNT: 1\\r\\nAccept: image/avif,image/webp,image/apng,image/svg+xml,image/*,*/*;q=0.8\\r\\nReferer: http://192.168.15.12/\\r\\nAccept-Encoding: gzip, deflate\\r\\nAccept-Language: pt-BR,pt;q=0.9,en-US;q=0.8,en;q=0.7\\r\\n\\r\\n'\n",
      "New Connection in API ('192.168.15.14', 53550)\n",
      "Request b''\n",
      "New Connection in API ('192.168.15.14', 53556)\n",
      "Request b'GET / HTTP/1.1\\r\\nHost: 192.168.15.12\\r\\nConnection: keep-alive\\r\\nCache-Control: max-age=0\\r\\nDNT: 1\\r\\nUpgrade-Insecure-Requests: 1\\r\\nUser-Agent: Mozilla/5.0 (X11; Linux x86_64) AppleWebKit/537.36 (KHTML, like Gecko) Chrome/90.0.4430.93 Safari/537.36\\r\\nAccept: text/html,application/xhtml+xml,application/xml;q=0.9,image/avif,image/webp,image/apng,*/*;q=0.8,application/signed-exchange;v=b3;q=0.9\\r\\nAccept-Encoding: gzip, deflate\\r\\nAccept-Language: pt-BR,pt;q=0.9,en-US;q=0.8,en;q=0.7\\r\\n\\r\\n'\n",
      "New Connection in API ('192.168.15.14', 53558)\n",
      "Request b'GET /favicon.ico HTTP/1.1\\r\\nHost: 192.168.15.12\\r\\nConnection: keep-alive\\r\\nPragma: no-cache\\r\\nCache-Control: no-cache\\r\\nUser-Agent: Mozilla/5.0 (X11; Linux x86_64) AppleWebKit/537.36 (KHTML, like Gecko) Chrome/90.0.4430.93 Safari/537.36\\r\\nDNT: 1\\r\\nAccept: image/avif,image/webp,image/apng,image/svg+xml,image/*,*/*;q=0.8\\r\\nReferer: http://192.168.15.12/\\r\\nAccept-Encoding: gzip, deflate\\r\\nAccept-Language: pt-BR,pt;q=0.9,en-US;q=0.8,en;q=0.7\\r\\n\\r\\n'\n",
      ".New Connection in API ('192.168.15.14', 53560)\n",
      "Request b'GET / HTTP/1.1\\r\\nHost: 192.168.15.12\\r\\nConnection: keep-alive\\r\\nCache-Control: max-age=0\\r\\nDNT: 1\\r\\nUpgrade-Insecure-Requests: 1\\r\\nUser-Agent: Mozilla/5.0 (X11; Linux x86_64) AppleWebKit/537.36 (KHTML, like Gecko) Chrome/90.0.4430.93 Safari/537.36\\r\\nAccept: text/html,application/xhtml+xml,application/xml;q=0.9,image/avif,image/webp,image/apng,*/*;q=0.8,application/signed-exchange;v=b3;q=0.9\\r\\nAccept-Encoding: gzip, deflate\\r\\nAccept-Language: pt-BR,pt;q=0.9,en-US;q=0.8,en;q=0.7\\r\\n\\r\\n'\n",
      "New Connection in API ('192.168.15.14', 53562)\n",
      "Request b'GET /favicon.ico HTTP/1.1\\r\\nHost: 192.168.15.12\\r\\nConnection: keep-alive\\r\\nPragma: no-cache\\r\\nCache-Control: no-cache\\r\\nUser-Agent: Mozilla/5.0 (X11; Linux x86_64) AppleWebKit/537.36 (KHTML, like Gecko) Chrome/90.0.4430.93 Safari/537.36\\r\\nDNT: 1\\r\\nAccept: image/avif,image/webp,image/apng,image/svg+xml,image/*,*/*;q=0.8\\r\\nReferer: http://192.168.15.12/\\r\\nAccept-Encoding: gzip, deflate\\r\\nAccept-Language: pt-BR,pt;q=0.9,en-US;q=0.8,en;q=0.7\\r\\n\\r\\n'\n",
      ".........................................\u001b[34m\n",
      "\n",
      "*** Sending Ctrl-C\n",
      "\n",
      "\u001b[0m\n",
      "\n",
      "Keyboard interrupt while waiting response on Ctrl-C\n",
      "\n"
     ]
    }
   ],
   "source": [
    "import network \n",
    "import machine\n",
    "from time import sleep_ms\n",
    "import socket\n",
    "from urequests import get\n",
    "from config import ssid, password\n",
    "\n",
    "def connect_wifi():\n",
    "    station = network.WLAN(network.STA_IF)\n",
    "    if station.isconnected() == True:\n",
    "        return\n",
    "    station.active(True)\n",
    "    station.connect(ssid, password)\n",
    "    i = 0\n",
    "    while station.isconnected() == False:\n",
    "        sleep_ms(100)\n",
    "        i += 1\n",
    "        if(i == 100):\n",
    "            machine.reset()\n",
    "        pass\n",
    "    print('Connected to wifi')\n",
    "    print(station.ifconfig())\n",
    "\n",
    "def web_page():\n",
    "    html = \"\"\"\n",
    "    <html lang=\"en\">\n",
    "        <head>\n",
    "            <meta charset=\"UTF-8\">\n",
    "            <meta http-equiv=\"X-UA-Compatible\" content=\"IE=edge\">\n",
    "            <meta name=\"viewport\" content=\"width=device-width, initial-scale=1.0\">\n",
    "            <title>Eea</title>\n",
    "        </head>\n",
    "        <body>\n",
    "            <h1>API</h1>\n",
    "            <img src=\"https://user-images.githubusercontent.com/48387196/118347983-85e52c80-b51d-11eb-8717-0b2ec65053fc.png\" alt=\"img1\">\n",
    "        </body>\n",
    "    </html>\n",
    "     \"\"\"\n",
    "    return html\n",
    "\n",
    "connect_wifi()\n",
    "tcp = socket.socket(socket.AF_INET, socket.SOCK_STREAM)\n",
    "orig = ('', 80)\n",
    "tcp.bind(orig)\n",
    "tcp.listen(5)\n",
    "\n",
    "\n",
    "try:\n",
    "    while True:\n",
    "        led.on()\n",
    "        conn, addr = tcp.accept()\n",
    "        print('New Connection in API', str(addr))\n",
    "        request = conn.recv(1024)\n",
    "        print('Request', str(request))\n",
    "        response = web_page()\n",
    "        conn.send('HTTP/1.1 200 OK\\n')\n",
    "        conn.send('Content-Type: text/html\\n')\n",
    "        conn.send('Connection: close\\n\\n')\n",
    "        conn.sendall(response)\n",
    "        conn.close()\n",
    "except:\n",
    "    led.off()\n",
    "    sleep_ms(5 * 1000)  # 5 seconds\n",
    "    machine.reset()"
   ]
  },
  {
   "cell_type": "code",
   "execution_count": null,
   "metadata": {},
   "outputs": [],
   "source": []
  }
 ],
 "metadata": {
  "kernelspec": {
   "display_name": "MicroPython - USB",
   "language": "micropython",
   "name": "micropython"
  },
  "language_info": {
   "codemirror_mode": "python",
   "file_extension": ".py",
   "mimetype": "text/python",
   "name": "micropython"
  }
 },
 "nbformat": 4,
 "nbformat_minor": 4
}
